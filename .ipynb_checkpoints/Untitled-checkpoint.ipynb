{
 "cells": [
  {
   "cell_type": "code",
   "execution_count": 1,
   "metadata": {},
   "outputs": [],
   "source": [
    "data = [['1' , '1' , 'Olivos' , 'Esteban Echeverria 2870' , 'Munro' , '4756-2360' , '1' , 'A' , '1' , 'None' , 'Buenos Aires' , '1605' , 'None' , 'None' , 'None' , 'None' , 'B' , 'None' , 'None' , 'None' , 'None' , 'None' , '1999-01-18 12:59:16' , '1' , '1988-03-03 00:00:00' , '1' , '1' , 'None' , '7796613000010' , 'None' , 'R1' , '3' , 'Olivo' , '1' , '1' , '0'],\n",
    "            ['1' , '1' , 'Olivos' , 'Esteban Echeverria 2870' , 'Munro' , '4756-2360' , '1' , 'A' , '1' , 'None' , 'Buenos Aires' , '1605' , 'None' , 'None' , 'None' , 'None' , 'B' , 'None' , 'None' , 'None' , 'None' , 'None' , '1999-01-18 12:59:16' , '1' , '1988-03-03 00:00:00' , '1' , '1' , 'None' , '7796613000010' , 'None' , 'R1' , '3' , 'Olivo' , '1' , '1' , '0'],\n",
    "            ['1' , '1' , 'Olivos' , 'Esteban Echeverria 2870' , 'Munro' , '4756-2360' , '1' , 'A' , '1' , 'None' , 'Buenos Aires' , '1605' , 'None' , 'None' , 'None' , 'None' , 'B' , 'None' , 'None' , 'None' , 'None' , 'None' , '1999-01-18 12:59:16' , '1' , '1988-03-03 00:00:00' , '1' , '1' , 'None' , '7796613000010' , 'None' , 'R1' , '3' , 'Olivo' , '1' , '1' , '0']\n",
    "            ]"
   ]
  },
  {
   "cell_type": "code",
   "execution_count": 2,
   "metadata": {},
   "outputs": [
    {
     "name": "stdout",
     "output_type": "stream",
     "text": [
      "[['1', '1', 'Olivos', 'Esteban Echeverria 2870', 'Munro', '4756-2360', '1', 'A', '1', 'None', 'Buenos Aires', '1605', 'None', 'None', 'None', 'None', 'B', 'None', 'None', 'None', 'None', 'None', '1999-01-18 12:59:16', '1', '1988-03-03 00:00:00', '1', '1', 'None', '7796613000010', 'None', 'R1', '3', 'Olivo', '1', '1', '0'], ['1', '1', 'Olivos', 'Esteban Echeverria 2870', 'Munro', '4756-2360', '1', 'A', '1', 'None', 'Buenos Aires', '1605', 'None', 'None', 'None', 'None', 'B', 'None', 'None', 'None', 'None', 'None', '1999-01-18 12:59:16', '1', '1988-03-03 00:00:00', '1', '1', 'None', '7796613000010', 'None', 'R1', '3', 'Olivo', '1', '1', '0'], ['1', '1', 'Olivos', 'Esteban Echeverria 2870', 'Munro', '4756-2360', '1', 'A', '1', 'None', 'Buenos Aires', '1605', 'None', 'None', 'None', 'None', 'B', 'None', 'None', 'None', 'None', 'None', '1999-01-18 12:59:16', '1', '1988-03-03 00:00:00', '1', '1', 'None', '7796613000010', 'None', 'R1', '3', 'Olivo', '1', '1', '0']]\n"
     ]
    }
   ],
   "source": [
    "print(data)"
   ]
  },
  {
   "cell_type": "code",
   "execution_count": 9,
   "metadata": {},
   "outputs": [
    {
     "name": "stdout",
     "output_type": "stream",
     "text": [
      "[[1 2 3]\n",
      " [4 5 6]]\n"
     ]
    },
    {
     "data": {
      "text/plain": [
       "dtype('float64')"
      ]
     },
     "execution_count": 9,
     "metadata": {},
     "output_type": "execute_result"
    }
   ],
   "source": [
    "import numpy as np\n",
    "b=np.array([(1,2,3),(4,5,6)])\n",
    "print(b)\n",
    "\n",
    "\n",
    "arraylist =[(1526869384.273246, 0, 'a0'),\n",
    "(1526869385.273246, 1, 'a1'),\n",
    "(1526869386.273246, 2, 'a2'),\n",
    "(1526869387.273246, 3, 'a3'),\n",
    "(1526869388.273246, 4, 'a4'),\n",
    "(1526869389.273246, 5, 'a5'),\n",
    "(1526869390.273246, 6, 'a6'),\n",
    "(1526869391.273246, 7, 'a7'),\n",
    "(1526869392.273246, 8, 'a8'),\n",
    "(1526869393.273246, 9, 'a9'),\n",
    "(1526869384.273246, 0, 'a0'),\n",
    "(1526869385.273246, 1, 'a1'),\n",
    "(1526869386.273246, 2, 'a2'),\n",
    "(1526869387.273246, 3, 'a3'),\n",
    "(1526869388.273246, 4, 'a4'),\n",
    "(1526869389.273246, 5, 'a5'),\n",
    "(1526869390.273246, 6, 'a6'),\n",
    "(1526869391.273246, 7, 'a7'),\n",
    "(1526869392.273246, 8, 'a8'),\n",
    "(1526869393.273246, 9, 'a9')]\n",
    "\n",
    "dtype = [('A', 'float'), ('B', 'int'), ('C', '<U32')]\n",
    "array = np.array(arraylist, dtype=dtype)\n",
    "\n",
    "array['A'].dtype\n",
    "\n",
    "\n",
    "dtype2=[('A', 'int'), ('B', 'int'), ('C', '<U32'),('D', '<U32'), ('E', '<U32'), ('F', '<U32'), ('G', 'int'), ('H','datetime64']"
   ]
  },
  {
   "cell_type": "code",
   "execution_count": 4,
   "metadata": {},
   "outputs": [
    {
     "name": "stdout",
     "output_type": "stream",
     "text": [
      "[[[ 0  1  2  3]\n",
      "  [ 4  5  6  7]\n",
      "  [ 8  9 10 11]]\n",
      "\n",
      " [[12 13 14 15]\n",
      "  [16 17 18 19]\n",
      "  [20 21 22 23]]]\n"
     ]
    }
   ],
   "source": [
    "c = np.arange(24).reshape(2,3,4) \n",
    "print(c)"
   ]
  },
  {
   "cell_type": "code",
   "execution_count": 5,
   "metadata": {},
   "outputs": [],
   "source": [
    "a = np.arange(10)**3"
   ]
  },
  {
   "cell_type": "code",
   "execution_count": 6,
   "metadata": {},
   "outputs": [
    {
     "name": "stdout",
     "output_type": "stream",
     "text": [
      "[  0   1   8  27  64 125 216 343 512 729]\n"
     ]
    }
   ],
   "source": [
    "print(a)"
   ]
  },
  {
   "cell_type": "code",
   "execution_count": null,
   "metadata": {},
   "outputs": [],
   "source": []
  }
 ],
 "metadata": {
  "kernelspec": {
   "display_name": "Python 3",
   "language": "python",
   "name": "python3"
  },
  "language_info": {
   "codemirror_mode": {
    "name": "ipython",
    "version": 3
   },
   "file_extension": ".py",
   "mimetype": "text/x-python",
   "name": "python",
   "nbconvert_exporter": "python",
   "pygments_lexer": "ipython3",
   "version": "3.5.5"
  }
 },
 "nbformat": 4,
 "nbformat_minor": 2
}
