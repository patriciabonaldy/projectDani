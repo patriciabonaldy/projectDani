{
 "cells": [
  {
   "cell_type": "code",
   "execution_count": 1,
   "metadata": {},
   "outputs": [],
   "source": [
    "data = [['1' , '1' , 'Olivos' , 'Esteban Echeverria 2870' , 'Munro' , '4756-2360' , '1' , 'A' , '1' , 'None' , 'Buenos Aires' , '1605' , 'None' , 'None' , 'None' , 'None' , 'B' , 'None' , 'None' , 'None' , 'None' , 'None' , '1999-01-18 12:59:16' , '1' , '1988-03-03 00:00:00' , '1' , '1' , 'None' , '7796613000010' , 'None' , 'R1' , '3' , 'Olivo' , '1' , '1' , '0'],\n",
    "            ['1' , '1' , 'Olivos' , 'Esteban Echeverria 2870' , 'Munro' , '4756-2360' , '1' , 'A' , '1' , 'None' , 'Buenos Aires' , '1605' , 'None' , 'None' , 'None' , 'None' , 'B' , 'None' , 'None' , 'None' , 'None' , 'None' , '1999-01-18 12:59:16' , '1' , '1988-03-03 00:00:00' , '1' , '1' , 'None' , '7796613000010' , 'None' , 'R1' , '3' , 'Olivo' , '1' , '1' , '0'],\n",
    "            ['1' , '1' , 'Olivos' , 'Esteban Echeverria 2870' , 'Munro' , '4756-2360' , '1' , 'A' , '1' , 'None' , 'Buenos Aires' , '1605' , 'None' , 'None' , 'None' , 'None' , 'B' , 'None' , 'None' , 'None' , 'None' , 'None' , '1999-01-18 12:59:16' , '1' , '1988-03-03 00:00:00' , '1' , '1' , 'None' , '7796613000010' , 'None' , 'R1' , '3' , 'Olivo' , '1' , '1' , '0']\n",
    "            ]"
   ]
  },
  {
   "cell_type": "code",
   "execution_count": 2,
   "metadata": {},
   "outputs": [
    {
     "name": "stdout",
     "output_type": "stream",
     "text": [
      "[['1', '1', 'Olivos', 'Esteban Echeverria 2870', 'Munro', '4756-2360', '1', 'A', '1', 'None', 'Buenos Aires', '1605', 'None', 'None', 'None', 'None', 'B', 'None', 'None', 'None', 'None', 'None', '1999-01-18 12:59:16', '1', '1988-03-03 00:00:00', '1', '1', 'None', '7796613000010', 'None', 'R1', '3', 'Olivo', '1', '1', '0'], ['1', '1', 'Olivos', 'Esteban Echeverria 2870', 'Munro', '4756-2360', '1', 'A', '1', 'None', 'Buenos Aires', '1605', 'None', 'None', 'None', 'None', 'B', 'None', 'None', 'None', 'None', 'None', '1999-01-18 12:59:16', '1', '1988-03-03 00:00:00', '1', '1', 'None', '7796613000010', 'None', 'R1', '3', 'Olivo', '1', '1', '0'], ['1', '1', 'Olivos', 'Esteban Echeverria 2870', 'Munro', '4756-2360', '1', 'A', '1', 'None', 'Buenos Aires', '1605', 'None', 'None', 'None', 'None', 'B', 'None', 'None', 'None', 'None', 'None', '1999-01-18 12:59:16', '1', '1988-03-03 00:00:00', '1', '1', 'None', '7796613000010', 'None', 'R1', '3', 'Olivo', '1', '1', '0']]\n"
     ]
    }
   ],
   "source": [
    "print(data)"
   ]
  },
  {
   "cell_type": "code",
   "execution_count": 37,
   "metadata": {},
   "outputs": [
    {
     "name": "stdout",
     "output_type": "stream",
     "text": [
      "[[1 2 3]\n",
      " [4 5 6]]\n"
     ]
    }
   ],
   "source": [
    "import numpy as np\n",
    "b=np.array([(1,2,3),(4,5,6)])\n",
    "print(b)\n",
    "\n",
    "\n",
    "arraylist =[(1526869384.273246, 0, 'a0'),\n",
    "(1526869385.273246, 1, 'a1'),\n",
    "(1526869386.273246, 2, 'a2'),\n",
    "(1526869387.273246, 3, 'a3'),\n",
    "(1526869388.273246, 4, 'a4'),\n",
    "(1526869389.273246, 5, 'a5'),\n",
    "(1526869390.273246, 6, 'a6'),\n",
    "(1526869391.273246, 7, 'a7'),\n",
    "(1526869392.273246, 8, 'a8'),\n",
    "(1526869393.273246, 9, 'a9'),\n",
    "(1526869384.273246, 0, 'a0'),\n",
    "(1526869385.273246, 1, 'a1'),\n",
    "(1526869386.273246, 2, 'a2'),\n",
    "(1526869387.273246, 3, 'a3'),\n",
    "(1526869388.273246, 4, 'a4'),\n",
    "(1526869389.273246, 5, 'a5'),\n",
    "(1526869390.273246, 6, 'a6'),\n",
    "(1526869391.273246, 7, 'a7'),\n",
    "(1526869392.273246, 8, 'a8'),\n",
    "(1526869393.273246, 9, 'a9')]\n",
    "\n",
    "dtype = [('A', 'float'), ('B', 'int'), ('C', '<U32')]\n",
    "array = np.array(arraylist, dtype=dtype)\n",
    "\n",
    "array['A'].dtype\n",
    "\n",
    "\n",
    "dtype2=[('A', 'int'), ('B', 'int'), ('C', '<U32'),('D', '<U32'), ('E', '<U32'), ('F', '<U32'), ('G', 'int')]"
   ]
  },
  {
   "cell_type": "code",
   "execution_count": 33,
   "metadata": {},
   "outputs": [
    {
     "name": "stdout",
     "output_type": "stream",
     "text": [
      "[[[ 0  1  2  3]\n",
      "  [ 4  5  6  7]\n",
      "  [ 8  9 10 11]]\n",
      "\n",
      " [[12 13 14 15]\n",
      "  [16 17 18 19]\n",
      "  [20 21 22 23]]]\n"
     ]
    }
   ],
   "source": [
    "c = np.arange(24).reshape(2,3,4) \n",
    "print(c)"
   ]
  },
  {
   "cell_type": "code",
   "execution_count": 34,
   "metadata": {},
   "outputs": [],
   "source": [
    "a = np.arange(10)**3"
   ]
  },
  {
   "cell_type": "code",
   "execution_count": 35,
   "metadata": {},
   "outputs": [
    {
     "name": "stdout",
     "output_type": "stream",
     "text": [
      "[  0   1   8  27  64 125 216 343 512 729]\n"
     ]
    },
    {
     "ename": "NameError",
     "evalue": "name 'datetime' is not defined",
     "output_type": "error",
     "traceback": [
      "\u001b[0;31m---------------------------------------------------------------------------\u001b[0m",
      "\u001b[0;31mNameError\u001b[0m                                 Traceback (most recent call last)",
      "\u001b[0;32m<ipython-input-35-e8ca0db8f869>\u001b[0m in \u001b[0;36m<module>\u001b[0;34m()\u001b[0m\n\u001b[1;32m      1\u001b[0m \u001b[0mprint\u001b[0m\u001b[0;34m(\u001b[0m\u001b[0ma\u001b[0m\u001b[0;34m)\u001b[0m\u001b[0;34m\u001b[0m\u001b[0m\n\u001b[0;32m----> 2\u001b[0;31m \u001b[0mnp\u001b[0m\u001b[0;34m.\u001b[0m\u001b[0mdatetime64\u001b[0m\u001b[0;34m(\u001b[0m\u001b[0mnp\u001b[0m\u001b[0;34m.\u001b[0m\u001b[0mdatetime64\u001b[0m\u001b[0;34m(\u001b[0m\u001b[0mdatetime\u001b[0m\u001b[0;34m.\u001b[0m\u001b[0mdatetime\u001b[0m\u001b[0;34m.\u001b[0m\u001b[0mnow\u001b[0m\u001b[0;34m(\u001b[0m\u001b[0;34m)\u001b[0m\u001b[0;34m)\u001b[0m\u001b[0;34m.\u001b[0m\u001b[0mastype\u001b[0m\u001b[0;34m(\u001b[0m\u001b[0mlong\u001b[0m\u001b[0;34m)\u001b[0m\u001b[0;34m,\u001b[0m \u001b[0;34m'us'\u001b[0m\u001b[0;34m)\u001b[0m\u001b[0;34m\u001b[0m\u001b[0m\n\u001b[0m\u001b[1;32m      3\u001b[0m dataReg = [[1, 1, 'Olivos', 'Esteban Echeverria 2870', 'Munro', '4756-2360', 1,'1988-03-03 00:00:00'], \n\u001b[1;32m      4\u001b[0m            \u001b[0;34m[\u001b[0m\u001b[0;36m1\u001b[0m\u001b[0;34m,\u001b[0m \u001b[0;36m2\u001b[0m\u001b[0;34m,\u001b[0m \u001b[0;34m'Olivos'\u001b[0m\u001b[0;34m,\u001b[0m \u001b[0;34m'Patricia Bonaldy 9999'\u001b[0m  \u001b[0;34m,\u001b[0m \u001b[0;34m'Munro'\u001b[0m\u001b[0;34m,\u001b[0m \u001b[0;34m'4756-5555'\u001b[0m\u001b[0;34m,\u001b[0m \u001b[0;36m1\u001b[0m\u001b[0;34m,\u001b[0m\u001b[0;34m'1987-03-17 00:00:00'\u001b[0m\u001b[0;34m]\u001b[0m\u001b[0;34m\u001b[0m\u001b[0m\n\u001b[1;32m      5\u001b[0m           ]\n",
      "\u001b[0;31mNameError\u001b[0m: name 'datetime' is not defined"
     ]
    }
   ],
   "source": [
    "print(a)\n",
    "np.datetime64(np.datetime64(datetime.datetime.now()).astype(long), 'us')\n",
    "dataReg = [[1, 1, 'Olivos', 'Esteban Echeverria 2870', 'Munro', '4756-2360', 1,'1988-03-03 00:00:00'], \n",
    "           [1, 2, 'Olivos', 'Patricia Bonaldy 9999'  , 'Munro', '4756-5555', 1,'1987-03-17 00:00:00']\n",
    "          ]\n"
   ]
  },
  {
   "cell_type": "code",
   "execution_count": 60,
   "metadata": {},
   "outputs": [
    {
     "name": "stdout",
     "output_type": "stream",
     "text": [
      "[(1, 'Olivos', 'Esteban Echeverria 2870', '4756-2360', 'Munro', 1, '1988-03-03T00:00:00.000')]\n"
     ]
    }
   ],
   "source": [
    "import numpy as np\n",
    "\n",
    "dtype = [('A', 'int'), ('B', '<U32'), ('C', '<U32'), ('D', '<U32'), ('E', '<U32'),('F', 'int'), ('G', 'datetime64[ms]')]\n",
    "dataReg1 = [(1, 'Olivos','Esteban Echeverria 2870','4756-2360','Munro',1,'1988-03-03')]\n",
    "\n",
    "array2 = np.array(dataReg1, dtype=dtype)\n",
    "array2['G'].dtype\n",
    "\n",
    "print(array2)"
   ]
  },
  {
   "cell_type": "code",
   "execution_count": 21,
   "metadata": {},
   "outputs": [
    {
     "ename": "ValueError",
     "evalue": "invalid literal for int() with base 10: 'Olivos'",
     "output_type": "error",
     "traceback": [
      "\u001b[0;31m---------------------------------------------------------------------------\u001b[0m",
      "\u001b[0;31mValueError\u001b[0m                                Traceback (most recent call last)",
      "\u001b[0;32m<ipython-input-21-95fea49fcaa2>\u001b[0m in \u001b[0;36m<module>\u001b[0;34m()\u001b[0m\n\u001b[0;32m----> 1\u001b[0;31m \u001b[0marray2\u001b[0m \u001b[0;34m=\u001b[0m \u001b[0mnp\u001b[0m\u001b[0;34m.\u001b[0m\u001b[0marray\u001b[0m\u001b[0;34m(\u001b[0m\u001b[0mdataReg1\u001b[0m\u001b[0;34m,\u001b[0m \u001b[0mdtype\u001b[0m\u001b[0;34m=\u001b[0m\u001b[0mdtype2\u001b[0m\u001b[0;34m)\u001b[0m\u001b[0;34m\u001b[0m\u001b[0m\n\u001b[0m",
      "\u001b[0;31mValueError\u001b[0m: invalid literal for int() with base 10: 'Olivos'"
     ]
    }
   ],
   "source": []
  },
  {
   "cell_type": "code",
   "execution_count": null,
   "metadata": {},
   "outputs": [],
   "source": []
  }
 ],
 "metadata": {
  "kernelspec": {
   "display_name": "Python 3",
   "language": "python",
   "name": "python3"
  },
  "language_info": {
   "codemirror_mode": {
    "name": "ipython",
    "version": 3
   },
   "file_extension": ".py",
   "mimetype": "text/x-python",
   "name": "python",
   "nbconvert_exporter": "python",
   "pygments_lexer": "ipython3",
   "version": "3.5.5"
  }
 },
 "nbformat": 4,
 "nbformat_minor": 2
}
